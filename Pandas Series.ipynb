{
 "cells": [
  {
   "cell_type": "code",
   "execution_count": 2,
   "id": "b9349971",
   "metadata": {},
   "outputs": [],
   "source": [
    "import pandas as pd\n",
    "import numpy as np"
   ]
  },
  {
   "cell_type": "markdown",
   "id": "48ecfae4",
   "metadata": {},
   "source": [
    "A diferença entre `array` e `serie`, é que o primeiro se apresenta como uma linha e o segundo em forma de coluna. As séries também tem índices flexíveis, diferente dos Arrays que só aceitam índices numérios."
   ]
  },
  {
   "cell_type": "code",
   "execution_count": 5,
   "id": "02019ad6",
   "metadata": {},
   "outputs": [
    {
     "data": {
      "text/plain": [
       "0    10\n",
       "1    20\n",
       "2    30\n",
       "3    40\n",
       "4    50\n",
       "dtype: int64"
      ]
     },
     "execution_count": 5,
     "metadata": {},
     "output_type": "execute_result"
    }
   ],
   "source": [
    "lista = [10, 20, 30, 40, 50]\n",
    "sr1 = pd.Series(lista)\n",
    "sr1"
   ]
  },
  {
   "cell_type": "code",
   "execution_count": 6,
   "id": "567dde06",
   "metadata": {},
   "outputs": [
    {
     "data": {
      "text/plain": [
       "tel1    999-9999\n",
       "tel2    888-8888\n",
       "tel3    777-7777\n",
       "dtype: object"
      ]
     },
     "execution_count": 6,
     "metadata": {},
     "output_type": "execute_result"
    }
   ],
   "source": [
    "dic = {'tel1':'999-9999','tel2':'888-8888', 'tel3':'777-7777'}\n",
    "sr2 = pd.Series(dic)\n",
    "sr2"
   ]
  },
  {
   "cell_type": "code",
   "execution_count": 7,
   "id": "080a8c96",
   "metadata": {},
   "outputs": [
    {
     "data": {
      "text/plain": [
       "30"
      ]
     },
     "execution_count": 7,
     "metadata": {},
     "output_type": "execute_result"
    }
   ],
   "source": [
    "sr1[2]"
   ]
  },
  {
   "cell_type": "code",
   "execution_count": 8,
   "id": "185e154a",
   "metadata": {},
   "outputs": [
    {
     "data": {
      "text/plain": [
       "'777-7777'"
      ]
     },
     "execution_count": 8,
     "metadata": {},
     "output_type": "execute_result"
    }
   ],
   "source": [
    "sr2[2]"
   ]
  },
  {
   "cell_type": "code",
   "execution_count": 9,
   "id": "cdd9cff3",
   "metadata": {},
   "outputs": [
    {
     "data": {
      "text/plain": [
       "'888-8888'"
      ]
     },
     "execution_count": 9,
     "metadata": {},
     "output_type": "execute_result"
    }
   ],
   "source": [
    " sr2['tel2']"
   ]
  },
  {
   "cell_type": "code",
   "execution_count": 10,
   "id": "38fcfe6a",
   "metadata": {},
   "outputs": [
    {
     "data": {
      "text/plain": [
       "array([10, 20, 30, 40, 50])"
      ]
     },
     "execution_count": 10,
     "metadata": {},
     "output_type": "execute_result"
    }
   ],
   "source": [
    "arr = np.array([10, 20, 30, 40, 50])\n",
    "arr"
   ]
  },
  {
   "cell_type": "code",
   "execution_count": 11,
   "id": "a86e6812",
   "metadata": {},
   "outputs": [
    {
     "data": {
      "text/plain": [
       "0    10\n",
       "1    20\n",
       "2    30\n",
       "3    40\n",
       "4    50\n",
       "dtype: int64"
      ]
     },
     "execution_count": 11,
     "metadata": {},
     "output_type": "execute_result"
    }
   ],
   "source": [
    "sr3 = pd.Series(arr)\n",
    "sr3"
   ]
  },
  {
   "cell_type": "code",
   "execution_count": 13,
   "id": "888117fc",
   "metadata": {},
   "outputs": [
    {
     "data": {
      "text/plain": [
       "1      10\n",
       "2      20\n",
       "3      30\n",
       "4      40\n",
       "5      50\n",
       "6      60\n",
       "7      70\n",
       "8      80\n",
       "9      90\n",
       "10    100\n",
       "dtype: int64"
      ]
     },
     "execution_count": 13,
     "metadata": {},
     "output_type": "execute_result"
    }
   ],
   "source": [
    "sr4 = pd.Series([10, 20, 30, 40, 50, 60, 70, 80, 90, 100], index = [1, 2, 3, 4, 5, 6, 7, 8, 9, 10])\n",
    "sr4"
   ]
  },
  {
   "cell_type": "markdown",
   "id": "065dd389",
   "metadata": {},
   "source": [
    "As operações são baseadas nos índices, então tomará como base estes elementos."
   ]
  },
  {
   "cell_type": "code",
   "execution_count": 14,
   "id": "560e45cd",
   "metadata": {},
   "outputs": [
    {
     "data": {
      "text/plain": [
       "Brasil       1\n",
       "Chile        2\n",
       "Argentina    3\n",
       "Colômbia     4\n",
       "dtype: int64"
      ]
     },
     "execution_count": 14,
     "metadata": {},
     "output_type": "execute_result"
    }
   ],
   "source": [
    "clas = [1, 2, 3, 4]\n",
    "ind = ['Brasil', 'Chile', 'Argentina', 'Colômbia']\n",
    "sr5 = pd.Series(data = clas, index = ind)\n",
    "sr5"
   ]
  },
  {
   "cell_type": "code",
   "execution_count": 15,
   "id": "c36f7c4a",
   "metadata": {},
   "outputs": [
    {
     "data": {
      "text/plain": [
       "Brasil       2\n",
       "Equador      3\n",
       "Argentina    4\n",
       "Bolívia      5\n",
       "Chile        6\n",
       "dtype: int64"
      ]
     },
     "execution_count": 15,
     "metadata": {},
     "output_type": "execute_result"
    }
   ],
   "source": [
    "clas2 = [2, 3, 4, 5, 6]\n",
    "ind2 = ['Brasil', 'Equador', 'Argentina', 'Bolívia', 'Chile']\n",
    "sr6 = pd.Series(data = clas2, index = ind2)\n",
    "sr6"
   ]
  },
  {
   "cell_type": "code",
   "execution_count": 16,
   "id": "ed539646",
   "metadata": {},
   "outputs": [
    {
     "data": {
      "text/plain": [
       "Argentina    7.0\n",
       "Bolívia      NaN\n",
       "Brasil       3.0\n",
       "Chile        8.0\n",
       "Colômbia     NaN\n",
       "Equador      NaN\n",
       "dtype: float64"
      ]
     },
     "execution_count": 16,
     "metadata": {},
     "output_type": "execute_result"
    }
   ],
   "source": [
    "sr5 + sr6"
   ]
  }
 ],
 "metadata": {
  "kernelspec": {
   "display_name": "Python 3 (ipykernel)",
   "language": "python",
   "name": "python3"
  },
  "language_info": {
   "codemirror_mode": {
    "name": "ipython",
    "version": 3
   },
   "file_extension": ".py",
   "mimetype": "text/x-python",
   "name": "python",
   "nbconvert_exporter": "python",
   "pygments_lexer": "ipython3",
   "version": "3.9.7"
  }
 },
 "nbformat": 4,
 "nbformat_minor": 5
}
