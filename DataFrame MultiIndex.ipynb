{
 "cells": [
  {
   "cell_type": "code",
   "execution_count": 12,
   "id": "04a7e894",
   "metadata": {},
   "outputs": [],
   "source": [
    "import numpy as np\n",
    "import pandas as pd"
   ]
  },
  {
   "cell_type": "code",
   "execution_count": 13,
   "id": "bc704695",
   "metadata": {},
   "outputs": [],
   "source": [
    "lista = [['Brasil', 'Brasil', 'Brasil', 'Argentina', 'Argentina', 'Argentina'],[2017, 2018, 2019, 2017, 2018, 2019]]\n",
    "\n",
    "# Função 'zip'. Pega as duas listas acima e junta o 1º índice da primeira lista com o 1º índice da segunda lista.\n",
    "tuplas = zip(*lista)"
   ]
  },
  {
   "cell_type": "code",
   "execution_count": 14,
   "id": "d767327b",
   "metadata": {},
   "outputs": [
    {
     "data": {
      "text/plain": [
       "<zip at 0x7f040fd7f280>"
      ]
     },
     "execution_count": 14,
     "metadata": {},
     "output_type": "execute_result"
    }
   ],
   "source": [
    "tuplas # é um objeto"
   ]
  },
  {
   "cell_type": "code",
   "execution_count": 15,
   "id": "c7cd0098",
   "metadata": {},
   "outputs": [
    {
     "data": {
      "text/plain": [
       "[('Brasil', 2017),\n",
       " ('Brasil', 2018),\n",
       " ('Brasil', 2019),\n",
       " ('Argentina', 2017),\n",
       " ('Argentina', 2018),\n",
       " ('Argentina', 2019)]"
      ]
     },
     "execution_count": 15,
     "metadata": {},
     "output_type": "execute_result"
    }
   ],
   "source": [
    "tupla = list(tuplas)\n",
    "tupla"
   ]
  },
  {
   "cell_type": "code",
   "execution_count": 17,
   "id": "3dcb61c9",
   "metadata": {},
   "outputs": [
    {
     "data": {
      "text/plain": [
       "MultiIndex([(   'Brasil', 2017),\n",
       "            (   'Brasil', 2018),\n",
       "            (   'Brasil', 2019),\n",
       "            ('Argentina', 2017),\n",
       "            ('Argentina', 2018),\n",
       "            ('Argentina', 2019)],\n",
       "           )"
      ]
     },
     "execution_count": 17,
     "metadata": {},
     "output_type": "execute_result"
    }
   ],
   "source": [
    "multi = pd.MultiIndex.from_tuples(tupla)\n",
    "multi"
   ]
  },
  {
   "cell_type": "code",
   "execution_count": 19,
   "id": "0051b217",
   "metadata": {},
   "outputs": [
    {
     "data": {
      "text/html": [
       "<div>\n",
       "<style scoped>\n",
       "    .dataframe tbody tr th:only-of-type {\n",
       "        vertical-align: middle;\n",
       "    }\n",
       "\n",
       "    .dataframe tbody tr th {\n",
       "        vertical-align: top;\n",
       "    }\n",
       "\n",
       "    .dataframe thead th {\n",
       "        text-align: right;\n",
       "    }\n",
       "</style>\n",
       "<table border=\"1\" class=\"dataframe\">\n",
       "  <thead>\n",
       "    <tr style=\"text-align: right;\">\n",
       "      <th></th>\n",
       "      <th></th>\n",
       "      <th>Exp Trigo</th>\n",
       "      <th>Exp Arroz</th>\n",
       "    </tr>\n",
       "  </thead>\n",
       "  <tbody>\n",
       "    <tr>\n",
       "      <th rowspan=\"3\" valign=\"top\">Brasil</th>\n",
       "      <th>2017</th>\n",
       "      <td>1.577931</td>\n",
       "      <td>-0.125352</td>\n",
       "    </tr>\n",
       "    <tr>\n",
       "      <th>2018</th>\n",
       "      <td>0.678801</td>\n",
       "      <td>0.284601</td>\n",
       "    </tr>\n",
       "    <tr>\n",
       "      <th>2019</th>\n",
       "      <td>1.475823</td>\n",
       "      <td>-1.302204</td>\n",
       "    </tr>\n",
       "    <tr>\n",
       "      <th rowspan=\"3\" valign=\"top\">Argentina</th>\n",
       "      <th>2017</th>\n",
       "      <td>-0.611300</td>\n",
       "      <td>0.881105</td>\n",
       "    </tr>\n",
       "    <tr>\n",
       "      <th>2018</th>\n",
       "      <td>-0.406731</td>\n",
       "      <td>-1.165026</td>\n",
       "    </tr>\n",
       "    <tr>\n",
       "      <th>2019</th>\n",
       "      <td>0.341825</td>\n",
       "      <td>-0.041522</td>\n",
       "    </tr>\n",
       "  </tbody>\n",
       "</table>\n",
       "</div>"
      ],
      "text/plain": [
       "                Exp Trigo  Exp Arroz\n",
       "Brasil    2017   1.577931  -0.125352\n",
       "          2018   0.678801   0.284601\n",
       "          2019   1.475823  -1.302204\n",
       "Argentina 2017  -0.611300   0.881105\n",
       "          2018  -0.406731  -1.165026\n",
       "          2019   0.341825  -0.041522"
      ]
     },
     "execution_count": 19,
     "metadata": {},
     "output_type": "execute_result"
    }
   ],
   "source": [
    "df1 = pd.DataFrame(data = np.random.randn(6,2), index = multi, columns=['Exp Trigo', 'Exp Arroz'])\n",
    "df1"
   ]
  },
  {
   "cell_type": "code",
   "execution_count": 21,
   "id": "25594ef8",
   "metadata": {},
   "outputs": [
    {
     "data": {
      "text/html": [
       "<div>\n",
       "<style scoped>\n",
       "    .dataframe tbody tr th:only-of-type {\n",
       "        vertical-align: middle;\n",
       "    }\n",
       "\n",
       "    .dataframe tbody tr th {\n",
       "        vertical-align: top;\n",
       "    }\n",
       "\n",
       "    .dataframe thead th {\n",
       "        text-align: right;\n",
       "    }\n",
       "</style>\n",
       "<table border=\"1\" class=\"dataframe\">\n",
       "  <thead>\n",
       "    <tr style=\"text-align: right;\">\n",
       "      <th></th>\n",
       "      <th></th>\n",
       "      <th>Exp Trigo</th>\n",
       "      <th>Exp Arroz</th>\n",
       "    </tr>\n",
       "    <tr>\n",
       "      <th>País</th>\n",
       "      <th>Ano</th>\n",
       "      <th></th>\n",
       "      <th></th>\n",
       "    </tr>\n",
       "  </thead>\n",
       "  <tbody>\n",
       "    <tr>\n",
       "      <th rowspan=\"3\" valign=\"top\">Brasil</th>\n",
       "      <th>2017</th>\n",
       "      <td>1.577931</td>\n",
       "      <td>-0.125352</td>\n",
       "    </tr>\n",
       "    <tr>\n",
       "      <th>2018</th>\n",
       "      <td>0.678801</td>\n",
       "      <td>0.284601</td>\n",
       "    </tr>\n",
       "    <tr>\n",
       "      <th>2019</th>\n",
       "      <td>1.475823</td>\n",
       "      <td>-1.302204</td>\n",
       "    </tr>\n",
       "    <tr>\n",
       "      <th rowspan=\"3\" valign=\"top\">Argentina</th>\n",
       "      <th>2017</th>\n",
       "      <td>-0.611300</td>\n",
       "      <td>0.881105</td>\n",
       "    </tr>\n",
       "    <tr>\n",
       "      <th>2018</th>\n",
       "      <td>-0.406731</td>\n",
       "      <td>-1.165026</td>\n",
       "    </tr>\n",
       "    <tr>\n",
       "      <th>2019</th>\n",
       "      <td>0.341825</td>\n",
       "      <td>-0.041522</td>\n",
       "    </tr>\n",
       "  </tbody>\n",
       "</table>\n",
       "</div>"
      ],
      "text/plain": [
       "                Exp Trigo  Exp Arroz\n",
       "País      Ano                       \n",
       "Brasil    2017   1.577931  -0.125352\n",
       "          2018   0.678801   0.284601\n",
       "          2019   1.475823  -1.302204\n",
       "Argentina 2017  -0.611300   0.881105\n",
       "          2018  -0.406731  -1.165026\n",
       "          2019   0.341825  -0.041522"
      ]
     },
     "execution_count": 21,
     "metadata": {},
     "output_type": "execute_result"
    }
   ],
   "source": [
    "df1.index.names = ['País', 'Ano']\n",
    "df1"
   ]
  },
  {
   "cell_type": "code",
   "execution_count": 25,
   "id": "283b7bf3",
   "metadata": {},
   "outputs": [
    {
     "data": {
      "text/plain": [
       "País       Ano \n",
       "Brasil     2017   -0.125352\n",
       "           2018    0.284601\n",
       "           2019   -1.302204\n",
       "Argentina  2017    0.881105\n",
       "           2018   -1.165026\n",
       "           2019   -0.041522\n",
       "Name: Exp Arroz, dtype: float64"
      ]
     },
     "execution_count": 25,
     "metadata": {},
     "output_type": "execute_result"
    }
   ],
   "source": [
    "# Encontrando valores\n",
    "\n",
    "df1['Exp Arroz']"
   ]
  },
  {
   "cell_type": "code",
   "execution_count": 27,
   "id": "64d8fd89",
   "metadata": {},
   "outputs": [
    {
     "data": {
      "text/html": [
       "<div>\n",
       "<style scoped>\n",
       "    .dataframe tbody tr th:only-of-type {\n",
       "        vertical-align: middle;\n",
       "    }\n",
       "\n",
       "    .dataframe tbody tr th {\n",
       "        vertical-align: top;\n",
       "    }\n",
       "\n",
       "    .dataframe thead th {\n",
       "        text-align: right;\n",
       "    }\n",
       "</style>\n",
       "<table border=\"1\" class=\"dataframe\">\n",
       "  <thead>\n",
       "    <tr style=\"text-align: right;\">\n",
       "      <th></th>\n",
       "      <th>Exp Trigo</th>\n",
       "      <th>Exp Arroz</th>\n",
       "    </tr>\n",
       "    <tr>\n",
       "      <th>Ano</th>\n",
       "      <th></th>\n",
       "      <th></th>\n",
       "    </tr>\n",
       "  </thead>\n",
       "  <tbody>\n",
       "    <tr>\n",
       "      <th>2017</th>\n",
       "      <td>1.577931</td>\n",
       "      <td>-0.125352</td>\n",
       "    </tr>\n",
       "    <tr>\n",
       "      <th>2018</th>\n",
       "      <td>0.678801</td>\n",
       "      <td>0.284601</td>\n",
       "    </tr>\n",
       "    <tr>\n",
       "      <th>2019</th>\n",
       "      <td>1.475823</td>\n",
       "      <td>-1.302204</td>\n",
       "    </tr>\n",
       "  </tbody>\n",
       "</table>\n",
       "</div>"
      ],
      "text/plain": [
       "      Exp Trigo  Exp Arroz\n",
       "Ano                       \n",
       "2017   1.577931  -0.125352\n",
       "2018   0.678801   0.284601\n",
       "2019   1.475823  -1.302204"
      ]
     },
     "execution_count": 27,
     "metadata": {},
     "output_type": "execute_result"
    }
   ],
   "source": [
    "df1.loc['Brasil']"
   ]
  },
  {
   "cell_type": "code",
   "execution_count": 28,
   "id": "76f6ccd1",
   "metadata": {},
   "outputs": [
    {
     "data": {
      "text/html": [
       "<div>\n",
       "<style scoped>\n",
       "    .dataframe tbody tr th:only-of-type {\n",
       "        vertical-align: middle;\n",
       "    }\n",
       "\n",
       "    .dataframe tbody tr th {\n",
       "        vertical-align: top;\n",
       "    }\n",
       "\n",
       "    .dataframe thead th {\n",
       "        text-align: right;\n",
       "    }\n",
       "</style>\n",
       "<table border=\"1\" class=\"dataframe\">\n",
       "  <thead>\n",
       "    <tr style=\"text-align: right;\">\n",
       "      <th></th>\n",
       "      <th>Exp Trigo</th>\n",
       "      <th>Exp Arroz</th>\n",
       "    </tr>\n",
       "    <tr>\n",
       "      <th>País</th>\n",
       "      <th></th>\n",
       "      <th></th>\n",
       "    </tr>\n",
       "  </thead>\n",
       "  <tbody>\n",
       "    <tr>\n",
       "      <th>Brasil</th>\n",
       "      <td>1.577931</td>\n",
       "      <td>-0.125352</td>\n",
       "    </tr>\n",
       "    <tr>\n",
       "      <th>Argentina</th>\n",
       "      <td>-0.611300</td>\n",
       "      <td>0.881105</td>\n",
       "    </tr>\n",
       "  </tbody>\n",
       "</table>\n",
       "</div>"
      ],
      "text/plain": [
       "           Exp Trigo  Exp Arroz\n",
       "País                           \n",
       "Brasil      1.577931  -0.125352\n",
       "Argentina  -0.611300   0.881105"
      ]
     },
     "execution_count": 28,
     "metadata": {},
     "output_type": "execute_result"
    }
   ],
   "source": [
    "df1.xs(2017, level=1)"
   ]
  },
  {
   "cell_type": "code",
   "execution_count": 32,
   "id": "5837c33b",
   "metadata": {},
   "outputs": [
    {
     "data": {
      "text/html": [
       "<div>\n",
       "<style scoped>\n",
       "    .dataframe tbody tr th:only-of-type {\n",
       "        vertical-align: middle;\n",
       "    }\n",
       "\n",
       "    .dataframe tbody tr th {\n",
       "        vertical-align: top;\n",
       "    }\n",
       "\n",
       "    .dataframe thead th {\n",
       "        text-align: right;\n",
       "    }\n",
       "</style>\n",
       "<table border=\"1\" class=\"dataframe\">\n",
       "  <thead>\n",
       "    <tr style=\"text-align: right;\">\n",
       "      <th></th>\n",
       "      <th></th>\n",
       "      <th>Exp Trigo</th>\n",
       "      <th>Exp Arroz</th>\n",
       "    </tr>\n",
       "    <tr>\n",
       "      <th>País</th>\n",
       "      <th>Ano</th>\n",
       "      <th></th>\n",
       "      <th></th>\n",
       "    </tr>\n",
       "  </thead>\n",
       "  <tbody>\n",
       "    <tr>\n",
       "      <th rowspan=\"3\" valign=\"top\">Brasil</th>\n",
       "      <th>2017</th>\n",
       "      <td>1.577931</td>\n",
       "      <td>-0.125352</td>\n",
       "    </tr>\n",
       "    <tr>\n",
       "      <th>2018</th>\n",
       "      <td>0.678801</td>\n",
       "      <td>0.284601</td>\n",
       "    </tr>\n",
       "    <tr>\n",
       "      <th>2019</th>\n",
       "      <td>1.475823</td>\n",
       "      <td>-1.302204</td>\n",
       "    </tr>\n",
       "    <tr>\n",
       "      <th>Argentina</th>\n",
       "      <th>2017</th>\n",
       "      <td>-0.611300</td>\n",
       "      <td>0.881105</td>\n",
       "    </tr>\n",
       "  </tbody>\n",
       "</table>\n",
       "</div>"
      ],
      "text/plain": [
       "                Exp Trigo  Exp Arroz\n",
       "País      Ano                       \n",
       "Brasil    2017   1.577931  -0.125352\n",
       "          2018   0.678801   0.284601\n",
       "          2019   1.475823  -1.302204\n",
       "Argentina 2017  -0.611300   0.881105"
      ]
     },
     "execution_count": 32,
     "metadata": {},
     "output_type": "execute_result"
    }
   ],
   "source": [
    "df1[:4]"
   ]
  },
  {
   "cell_type": "code",
   "execution_count": 33,
   "id": "17e36fa2",
   "metadata": {},
   "outputs": [
    {
     "data": {
      "text/html": [
       "<div>\n",
       "<style scoped>\n",
       "    .dataframe tbody tr th:only-of-type {\n",
       "        vertical-align: middle;\n",
       "    }\n",
       "\n",
       "    .dataframe tbody tr th {\n",
       "        vertical-align: top;\n",
       "    }\n",
       "\n",
       "    .dataframe thead tr th {\n",
       "        text-align: left;\n",
       "    }\n",
       "\n",
       "    .dataframe thead tr:last-of-type th {\n",
       "        text-align: right;\n",
       "    }\n",
       "</style>\n",
       "<table border=\"1\" class=\"dataframe\">\n",
       "  <thead>\n",
       "    <tr>\n",
       "      <th></th>\n",
       "      <th colspan=\"3\" halign=\"left\">Exp Trigo</th>\n",
       "      <th colspan=\"3\" halign=\"left\">Exp Arroz</th>\n",
       "    </tr>\n",
       "    <tr>\n",
       "      <th>Ano</th>\n",
       "      <th>2017</th>\n",
       "      <th>2018</th>\n",
       "      <th>2019</th>\n",
       "      <th>2017</th>\n",
       "      <th>2018</th>\n",
       "      <th>2019</th>\n",
       "    </tr>\n",
       "    <tr>\n",
       "      <th>País</th>\n",
       "      <th></th>\n",
       "      <th></th>\n",
       "      <th></th>\n",
       "      <th></th>\n",
       "      <th></th>\n",
       "      <th></th>\n",
       "    </tr>\n",
       "  </thead>\n",
       "  <tbody>\n",
       "    <tr>\n",
       "      <th>Argentina</th>\n",
       "      <td>-0.611300</td>\n",
       "      <td>-0.406731</td>\n",
       "      <td>0.341825</td>\n",
       "      <td>0.881105</td>\n",
       "      <td>-1.165026</td>\n",
       "      <td>-0.041522</td>\n",
       "    </tr>\n",
       "    <tr>\n",
       "      <th>Brasil</th>\n",
       "      <td>1.577931</td>\n",
       "      <td>0.678801</td>\n",
       "      <td>1.475823</td>\n",
       "      <td>-0.125352</td>\n",
       "      <td>0.284601</td>\n",
       "      <td>-1.302204</td>\n",
       "    </tr>\n",
       "  </tbody>\n",
       "</table>\n",
       "</div>"
      ],
      "text/plain": [
       "          Exp Trigo                     Exp Arroz                    \n",
       "Ano            2017      2018      2019      2017      2018      2019\n",
       "País                                                                 \n",
       "Argentina -0.611300 -0.406731  0.341825  0.881105 -1.165026 -0.041522\n",
       "Brasil     1.577931  0.678801  1.475823 -0.125352  0.284601 -1.302204"
      ]
     },
     "execution_count": 33,
     "metadata": {},
     "output_type": "execute_result"
    }
   ],
   "source": [
    "# visualizando o DataFrame de outra maneira\n",
    "\n",
    "df1.unstack()"
   ]
  },
  {
   "cell_type": "code",
   "execution_count": 36,
   "id": "cdc7c152",
   "metadata": {},
   "outputs": [
    {
     "data": {
      "text/html": [
       "<div>\n",
       "<style scoped>\n",
       "    .dataframe tbody tr th:only-of-type {\n",
       "        vertical-align: middle;\n",
       "    }\n",
       "\n",
       "    .dataframe tbody tr th {\n",
       "        vertical-align: top;\n",
       "    }\n",
       "\n",
       "    .dataframe thead tr th {\n",
       "        text-align: left;\n",
       "    }\n",
       "\n",
       "    .dataframe thead tr:last-of-type th {\n",
       "        text-align: right;\n",
       "    }\n",
       "</style>\n",
       "<table border=\"1\" class=\"dataframe\">\n",
       "  <thead>\n",
       "    <tr>\n",
       "      <th></th>\n",
       "      <th colspan=\"3\" halign=\"left\">Exp Trigo</th>\n",
       "      <th colspan=\"3\" halign=\"left\">Exp Arroz</th>\n",
       "    </tr>\n",
       "    <tr>\n",
       "      <th>Ano</th>\n",
       "      <th>2017</th>\n",
       "      <th>2018</th>\n",
       "      <th>2019</th>\n",
       "      <th>2017</th>\n",
       "      <th>2018</th>\n",
       "      <th>2019</th>\n",
       "    </tr>\n",
       "    <tr>\n",
       "      <th>País</th>\n",
       "      <th></th>\n",
       "      <th></th>\n",
       "      <th></th>\n",
       "      <th></th>\n",
       "      <th></th>\n",
       "      <th></th>\n",
       "    </tr>\n",
       "  </thead>\n",
       "  <tbody>\n",
       "    <tr>\n",
       "      <th>Argentina</th>\n",
       "      <td>-0.611300</td>\n",
       "      <td>-0.406731</td>\n",
       "      <td>0.341825</td>\n",
       "      <td>0.881105</td>\n",
       "      <td>-1.165026</td>\n",
       "      <td>-0.041522</td>\n",
       "    </tr>\n",
       "    <tr>\n",
       "      <th>Brasil</th>\n",
       "      <td>1.577931</td>\n",
       "      <td>0.678801</td>\n",
       "      <td>1.475823</td>\n",
       "      <td>-0.125352</td>\n",
       "      <td>0.284601</td>\n",
       "      <td>-1.302204</td>\n",
       "    </tr>\n",
       "  </tbody>\n",
       "</table>\n",
       "</div>"
      ],
      "text/plain": [
       "          Exp Trigo                     Exp Arroz                    \n",
       "Ano            2017      2018      2019      2017      2018      2019\n",
       "País                                                                 \n",
       "Argentina -0.611300 -0.406731  0.341825  0.881105 -1.165026 -0.041522\n",
       "Brasil     1.577931  0.678801  1.475823 -0.125352  0.284601 -1.302204"
      ]
     },
     "execution_count": 36,
     "metadata": {},
     "output_type": "execute_result"
    }
   ],
   "source": [
    "df2 = df1.unstack()\n",
    "df2"
   ]
  },
  {
   "cell_type": "code",
   "execution_count": 37,
   "id": "baf45f32",
   "metadata": {},
   "outputs": [
    {
     "data": {
      "text/html": [
       "<div>\n",
       "<style scoped>\n",
       "    .dataframe tbody tr th:only-of-type {\n",
       "        vertical-align: middle;\n",
       "    }\n",
       "\n",
       "    .dataframe tbody tr th {\n",
       "        vertical-align: top;\n",
       "    }\n",
       "\n",
       "    .dataframe thead th {\n",
       "        text-align: right;\n",
       "    }\n",
       "</style>\n",
       "<table border=\"1\" class=\"dataframe\">\n",
       "  <thead>\n",
       "    <tr style=\"text-align: right;\">\n",
       "      <th>Ano</th>\n",
       "      <th>2017</th>\n",
       "      <th>2018</th>\n",
       "      <th>2019</th>\n",
       "    </tr>\n",
       "    <tr>\n",
       "      <th>País</th>\n",
       "      <th></th>\n",
       "      <th></th>\n",
       "      <th></th>\n",
       "    </tr>\n",
       "  </thead>\n",
       "  <tbody>\n",
       "    <tr>\n",
       "      <th>Argentina</th>\n",
       "      <td>-0.611300</td>\n",
       "      <td>-0.406731</td>\n",
       "      <td>0.341825</td>\n",
       "    </tr>\n",
       "    <tr>\n",
       "      <th>Brasil</th>\n",
       "      <td>1.577931</td>\n",
       "      <td>0.678801</td>\n",
       "      <td>1.475823</td>\n",
       "    </tr>\n",
       "  </tbody>\n",
       "</table>\n",
       "</div>"
      ],
      "text/plain": [
       "Ano            2017      2018      2019\n",
       "País                                   \n",
       "Argentina -0.611300 -0.406731  0.341825\n",
       "Brasil     1.577931  0.678801  1.475823"
      ]
     },
     "execution_count": 37,
     "metadata": {},
     "output_type": "execute_result"
    }
   ],
   "source": [
    "df2['Exp Trigo']"
   ]
  },
  {
   "cell_type": "code",
   "execution_count": 38,
   "id": "928f85aa",
   "metadata": {},
   "outputs": [
    {
     "data": {
      "text/html": [
       "<div>\n",
       "<style scoped>\n",
       "    .dataframe tbody tr th:only-of-type {\n",
       "        vertical-align: middle;\n",
       "    }\n",
       "\n",
       "    .dataframe tbody tr th {\n",
       "        vertical-align: top;\n",
       "    }\n",
       "\n",
       "    .dataframe thead th {\n",
       "        text-align: right;\n",
       "    }\n",
       "</style>\n",
       "<table border=\"1\" class=\"dataframe\">\n",
       "  <thead>\n",
       "    <tr style=\"text-align: right;\">\n",
       "      <th></th>\n",
       "      <th>Exp Trigo</th>\n",
       "      <th>Exp Arroz</th>\n",
       "    </tr>\n",
       "    <tr>\n",
       "      <th>País</th>\n",
       "      <th></th>\n",
       "      <th></th>\n",
       "    </tr>\n",
       "  </thead>\n",
       "  <tbody>\n",
       "    <tr>\n",
       "      <th>Argentina</th>\n",
       "      <td>-0.611300</td>\n",
       "      <td>0.881105</td>\n",
       "    </tr>\n",
       "    <tr>\n",
       "      <th>Brasil</th>\n",
       "      <td>1.577931</td>\n",
       "      <td>-0.125352</td>\n",
       "    </tr>\n",
       "  </tbody>\n",
       "</table>\n",
       "</div>"
      ],
      "text/plain": [
       "           Exp Trigo  Exp Arroz\n",
       "País                           \n",
       "Argentina  -0.611300   0.881105\n",
       "Brasil      1.577931  -0.125352"
      ]
     },
     "execution_count": 38,
     "metadata": {},
     "output_type": "execute_result"
    }
   ],
   "source": [
    "df2.xs(2017, axis=1, level=1)"
   ]
  },
  {
   "cell_type": "code",
   "execution_count": null,
   "id": "dc48d894",
   "metadata": {},
   "outputs": [],
   "source": []
  }
 ],
 "metadata": {
  "kernelspec": {
   "display_name": "Python 3 (ipykernel)",
   "language": "python",
   "name": "python3"
  },
  "language_info": {
   "codemirror_mode": {
    "name": "ipython",
    "version": 3
   },
   "file_extension": ".py",
   "mimetype": "text/x-python",
   "name": "python",
   "nbconvert_exporter": "python",
   "pygments_lexer": "ipython3",
   "version": "3.9.7"
  }
 },
 "nbformat": 4,
 "nbformat_minor": 5
}
