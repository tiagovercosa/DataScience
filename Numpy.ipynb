{
 "cells": [
  {
   "cell_type": "code",
   "execution_count": 1,
   "id": "14bc68db",
   "metadata": {},
   "outputs": [],
   "source": [
    "import numpy as np"
   ]
  },
  {
   "cell_type": "code",
   "execution_count": 2,
   "id": "f362efb0",
   "metadata": {},
   "outputs": [],
   "source": [
    "a = 40\n",
    "b = 70"
   ]
  },
  {
   "cell_type": "code",
   "execution_count": 3,
   "id": "24035357",
   "metadata": {},
   "outputs": [
    {
     "data": {
      "text/plain": [
       "False"
      ]
     },
     "execution_count": 3,
     "metadata": {},
     "output_type": "execute_result"
    }
   ],
   "source": [
    "a > b"
   ]
  },
  {
   "cell_type": "code",
   "execution_count": 4,
   "id": "d2225052",
   "metadata": {},
   "outputs": [
    {
     "data": {
      "text/plain": [
       "array([[35, 32, 18, 49, 45, 17, 15, 35, 43, 27],\n",
       "       [20, 28, 35, 42, 22, 44, 30, 22, 45, 15],\n",
       "       [32, 18, 23, 35, 48, 26, 33, 38, 32, 17],\n",
       "       [20, 22, 30, 21, 35, 36, 25, 47, 15, 26],\n",
       "       [26, 37, 33, 37, 26, 18, 16, 40, 17, 41],\n",
       "       [22, 31, 48, 48, 20, 45, 15, 31, 39, 27],\n",
       "       [32, 36, 35, 45, 27, 50, 18, 15, 50, 28],\n",
       "       [37, 37, 49, 28, 49, 31, 49, 39, 27, 17],\n",
       "       [41, 16, 18, 37, 49, 44, 21, 47, 29, 24],\n",
       "       [19, 46, 23, 35, 39, 36, 21, 40, 20, 48],\n",
       "       [33, 35, 44, 37, 41, 28, 34, 38, 37, 48],\n",
       "       [30, 20, 17, 46, 30, 19, 23, 44, 38, 34],\n",
       "       [36, 44, 32, 19, 36, 42, 35, 46, 42, 34],\n",
       "       [16, 39, 27, 18, 33, 41, 38, 16, 32, 35],\n",
       "       [44, 48, 37, 23, 18, 16, 47, 38, 19, 17]])"
      ]
     },
     "execution_count": 4,
     "metadata": {},
     "output_type": "execute_result"
    }
   ],
   "source": [
    "cad = np.random.randint(15, 51, size = (15,10))\n",
    "cad"
   ]
  },
  {
   "cell_type": "code",
   "execution_count": 5,
   "id": "4f884b4d",
   "metadata": {},
   "outputs": [
    {
     "data": {
      "text/plain": [
       "numpy.ndarray"
      ]
     },
     "execution_count": 5,
     "metadata": {},
     "output_type": "execute_result"
    }
   ],
   "source": [
    "type(cad)"
   ]
  },
  {
   "cell_type": "code",
   "execution_count": 6,
   "id": "39e07f24",
   "metadata": {},
   "outputs": [
    {
     "data": {
      "text/plain": [
       "array([[ True,  True, False,  True,  True, False, False,  True,  True,\n",
       "         True],\n",
       "       [ True,  True,  True,  True,  True,  True,  True,  True,  True,\n",
       "        False],\n",
       "       [ True, False,  True,  True,  True,  True,  True,  True,  True,\n",
       "        False],\n",
       "       [ True,  True,  True,  True,  True,  True,  True,  True, False,\n",
       "         True],\n",
       "       [ True,  True,  True,  True,  True, False, False,  True, False,\n",
       "         True],\n",
       "       [ True,  True,  True,  True,  True,  True, False,  True,  True,\n",
       "         True],\n",
       "       [ True,  True,  True,  True,  True,  True, False, False,  True,\n",
       "         True],\n",
       "       [ True,  True,  True,  True,  True,  True,  True,  True,  True,\n",
       "        False],\n",
       "       [ True, False, False,  True,  True,  True,  True,  True,  True,\n",
       "         True],\n",
       "       [ True,  True,  True,  True,  True,  True,  True,  True,  True,\n",
       "         True],\n",
       "       [ True,  True,  True,  True,  True,  True,  True,  True,  True,\n",
       "         True],\n",
       "       [ True,  True, False,  True,  True,  True,  True,  True,  True,\n",
       "         True],\n",
       "       [ True,  True,  True,  True,  True,  True,  True,  True,  True,\n",
       "         True],\n",
       "       [False,  True,  True, False,  True,  True,  True, False,  True,\n",
       "         True],\n",
       "       [ True,  True,  True,  True, False, False,  True,  True,  True,\n",
       "        False]])"
      ]
     },
     "execution_count": 6,
     "metadata": {},
     "output_type": "execute_result"
    }
   ],
   "source": [
    "cad_18 = cad > 18\n",
    "cad_18"
   ]
  },
  {
   "cell_type": "code",
   "execution_count": 9,
   "id": "fc9963eb",
   "metadata": {},
   "outputs": [
    {
     "data": {
      "text/plain": [
       "array([35, 32, 49, 45, 35, 43, 27, 20, 28, 35, 42, 22, 44, 30, 22, 45, 32,\n",
       "       23, 35, 48, 26, 33, 38, 32, 20, 22, 30, 21, 35, 36, 25, 47, 26, 26,\n",
       "       37, 33, 37, 26, 40, 41, 22, 31, 48, 48, 20, 45, 31, 39, 27, 32, 36,\n",
       "       35, 45, 27, 50, 50, 28, 37, 37, 49, 28, 49, 31, 49, 39, 27, 41, 37,\n",
       "       49, 44, 21, 47, 29, 24, 19, 46, 23, 35, 39, 36, 21, 40, 20, 48, 33,\n",
       "       35, 44, 37, 41, 28, 34, 38, 37, 48, 30, 20, 46, 30, 19, 23, 44, 38,\n",
       "       34, 36, 44, 32, 19, 36, 42, 35, 46, 42, 34, 39, 27, 33, 41, 38, 32,\n",
       "       35, 44, 48, 37, 23, 47, 38, 19])"
      ]
     },
     "execution_count": 9,
     "metadata": {},
     "output_type": "execute_result"
    }
   ],
   "source": [
    "cad[cad_18] # pega todos os valores que são maiores de 18 (condião dada pro cad_18)"
   ]
  },
  {
   "cell_type": "code",
   "execution_count": 8,
   "id": "45b3fdfb",
   "metadata": {},
   "outputs": [
    {
     "data": {
      "text/plain": [
       "127"
      ]
     },
     "execution_count": 8,
     "metadata": {},
     "output_type": "execute_result"
    }
   ],
   "source": [
    "len(cad[cad_18])"
   ]
  },
  {
   "cell_type": "code",
   "execution_count": 11,
   "id": "2d606e86",
   "metadata": {},
   "outputs": [
    {
     "data": {
      "text/plain": [
       "127"
      ]
     },
     "execution_count": 11,
     "metadata": {},
     "output_type": "execute_result"
    }
   ],
   "source": [
    "cad_18.sum() # valores booleanos tomam a forma de 0 (False) e 1 (True). Quando somar todos, dá a soma de todos True"
   ]
  },
  {
   "cell_type": "code",
   "execution_count": 12,
   "id": "ca213e46",
   "metadata": {},
   "outputs": [
    {
     "data": {
      "text/plain": [
       "array([32, 18, 23, 35, 48, 26, 33, 38, 32, 17])"
      ]
     },
     "execution_count": 12,
     "metadata": {},
     "output_type": "execute_result"
    }
   ],
   "source": [
    "cad[2]"
   ]
  },
  {
   "cell_type": "code",
   "execution_count": 13,
   "id": "7f6802ab",
   "metadata": {},
   "outputs": [
    {
     "data": {
      "text/plain": [
       "array([35, 32, 49, 45, 35, 43, 27, 28, 35, 42, 44, 30, 45, 32, 35, 48, 26,\n",
       "       33, 38, 32, 30, 35, 36, 47, 26, 26, 37, 33, 37, 26, 40, 41, 31, 48,\n",
       "       48, 45, 31, 39, 27, 32, 36, 35, 45, 27, 50, 50, 28, 37, 37, 49, 28,\n",
       "       49, 31, 49, 39, 27, 41, 37, 49, 44, 47, 29, 46, 35, 39, 36, 40, 48,\n",
       "       33, 35, 44, 37, 41, 28, 34, 38, 37, 48, 30, 46, 30, 44, 38, 34, 36,\n",
       "       44, 32, 36, 42, 35, 46, 42, 34, 39, 27, 33, 41, 38, 32, 35, 44, 48,\n",
       "       37, 47, 38])"
      ]
     },
     "execution_count": 13,
     "metadata": {},
     "output_type": "execute_result"
    }
   ],
   "source": [
    "cad[cad > 25]"
   ]
  },
  {
   "cell_type": "code",
   "execution_count": 14,
   "id": "67bf3e24",
   "metadata": {},
   "outputs": [
    {
     "data": {
      "text/plain": [
       "105"
      ]
     },
     "execution_count": 14,
     "metadata": {},
     "output_type": "execute_result"
    }
   ],
   "source": [
    "len(cad[cad > 25])"
   ]
  },
  {
   "cell_type": "code",
   "execution_count": 15,
   "id": "4e473ac1",
   "metadata": {},
   "outputs": [
    {
     "data": {
      "text/plain": [
       "array([35, 32, 49, 45, 35, 43, 27, 28, 35, 42, 44, 30, 45, 32, 35, 48, 26,\n",
       "       33, 38, 32, 30, 35, 36, 47, 26, 26, 37, 33, 37, 26, 40, 41, 31, 48,\n",
       "       48, 45, 31, 39, 27, 32, 36, 35, 45, 27, 50, 50, 28, 37, 37, 49, 28,\n",
       "       49, 31, 49, 39, 27, 41, 37, 49, 44, 47, 29, 46, 35, 39, 36, 40, 48,\n",
       "       33, 35, 44, 37, 41, 28, 34, 38, 37, 48, 30, 46, 30, 44, 38, 34, 36,\n",
       "       44, 32, 36, 42, 35, 46, 42, 34, 39, 27, 33, 41, 38, 32, 35, 44, 48,\n",
       "       37, 47, 38])"
      ]
     },
     "execution_count": 15,
     "metadata": {},
     "output_type": "execute_result"
    }
   ],
   "source": [
    "dados_extraido = np.extract(cad > 25, cad) #Extrair elementos que satisfaçam uma determinada condição\n",
    "dados_extraido"
   ]
  },
  {
   "cell_type": "code",
   "execution_count": 16,
   "id": "2ac13956",
   "metadata": {},
   "outputs": [
    {
     "data": {
      "text/plain": [
       "105"
      ]
     },
     "execution_count": 16,
     "metadata": {},
     "output_type": "execute_result"
    }
   ],
   "source": [
    "len(dados_extraido)"
   ]
  },
  {
   "cell_type": "code",
   "execution_count": null,
   "id": "5fc2f5be",
   "metadata": {},
   "outputs": [],
   "source": []
  }
 ],
 "metadata": {
  "kernelspec": {
   "display_name": "Python 3 (ipykernel)",
   "language": "python",
   "name": "python3"
  },
  "language_info": {
   "codemirror_mode": {
    "name": "ipython",
    "version": 3
   },
   "file_extension": ".py",
   "mimetype": "text/x-python",
   "name": "python",
   "nbconvert_exporter": "python",
   "pygments_lexer": "ipython3",
   "version": "3.9.7"
  }
 },
 "nbformat": 4,
 "nbformat_minor": 5
}
